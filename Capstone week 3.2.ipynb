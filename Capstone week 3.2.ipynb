{
    "nbformat_minor": 1, 
    "cells": [
        {
            "source": "#### Import required Libraries\n", 
            "cell_type": "markdown", 
            "metadata": {
                "collapsed": true
            }
        }, 
        {
            "source": "import pandas as pd\nimport os\nos.system('pip install wikipedia')\nos.system('pip install geocoder')\nos.system('pip install geopy')\nos.system('pip install folium')\nimport wikipedia as wp\nfrom geopy.geocoders import Nominatim\nimport folium", 
            "cell_type": "code", 
            "metadata": {}, 
            "outputs": [], 
            "execution_count": 1
        }, 
        {
            "source": "#### Call the wikipedia page function and pass the \"list of postal codes of Canada\" page, read the html and create the df", 
            "cell_type": "markdown", 
            "metadata": {}
        }, 
        {
            "source": "html = wp.page(\"List of postal codes of Canada: M\").html().encode(\"UTF-8\")\ndf = pd.read_html(html)[0]\ndf.columns = ['Postalcode', 'Borough', 'Neighborhood']\ndf = df.iloc[1:]\n#df.to_csv('C:\\\\Users\\RAGHUGOPALKRISHNAN\\\\Desktop\\\\Course9.csv')\n#print(df)", 
            "cell_type": "code", 
            "metadata": {}, 
            "outputs": [], 
            "execution_count": 2
        }, 
        {
            "source": "#### Use groupby to group on the Postalcode column and aggregate on the Neighborhood column. Drop rows which have 'not assigned' in the Borough column and assign Borough value if the Neighborhood has value as 'Not assigned'\n", 
            "cell_type": "markdown", 
            "metadata": {}
        }, 
        {
            "source": "foo = lambda a: \" , \".join(a) \ndf = df.groupby('Postalcode').agg({'Borough': 'first', 'Neighborhood': foo}).reset_index()\n   \n    \ndf = df.drop(df[(df.Borough == 'Not assigned')].index)\nfor index, row in df.iterrows():\n    if row['Neighborhood'] == 'Not assigned':\n        #print(row['Borough'])\n        row['Neighborhood'] = row['Borough']", 
            "cell_type": "code", 
            "metadata": {}, 
            "outputs": [], 
            "execution_count": 3
        }, 
        {
            "source": "#### Let's look at  the shape of the Dataframe", 
            "cell_type": "markdown", 
            "metadata": {}
        }, 
        {
            "source": "print('The shape of the Dataframe ', df.shape)", 
            "cell_type": "code", 
            "metadata": {}, 
            "outputs": [
                {
                    "output_type": "stream", 
                    "name": "stdout", 
                    "text": "The shape of the Dataframe  (103, 3)\n"
                }
            ], 
            "execution_count": 4
        }, 
        {
            "source": "#### Due to unreliability of the geocoder package I am using the geospatial csv file to get the latitude and longtitude for the Postal Codes", 
            "cell_type": "markdown", 
            "metadata": {}
        }, 
        {
            "source": "geospatial = pd.read_csv('https://cocl.us/Geospatial_data')\n#geospatial\ngeospatial.columns = ['Postalcode', 'Latitude', 'Longitude']\n#geospatial\ndf_merge = pd.merge(df, geospatial, on='Postalcode')\ndf_merge", 
            "cell_type": "code", 
            "metadata": {}, 
            "outputs": [
                {
                    "output_type": "execute_result", 
                    "data": {
                        "text/plain": "    Postalcode                                       Neighborhood  \\\n0          M1B                                    Rouge , Malvern   \n1          M1C           Highland Creek , Rouge Hill , Port Union   \n2          M1E                Guildwood , Morningside , West Hill   \n3          M1G                                             Woburn   \n4          M1H                                          Cedarbrae   \n5          M1J                                Scarborough Village   \n6          M1K      East Birchmount Park , Ionview , Kennedy Park   \n7          M1L                  Clairlea , Golden Mile , Oakridge   \n8          M1M  Cliffcrest , Cliffside , Scarborough Village West   \n9          M1N                       Birch Cliff , Cliffside West   \n10         M1P  Dorset Park , Scarborough Town Centre , Wexfor...   \n11         M1R                                 Maryvale , Wexford   \n12         M1S                                          Agincourt   \n13         M1T          Clarks Corners , Sullivan , Tam O'Shanter   \n14         M1V  Agincourt North , L'Amoreaux East , Milliken ,...   \n15         M1W                                    L'Amoreaux West   \n16         M1X                                        Upper Rouge   \n17         M2H                                  Hillcrest Village   \n18         M2J                     Fairview , Henry Farm , Oriole   \n19         M2K                                    Bayview Village   \n20         M2L                          Silver Hills , York Mills   \n21         M2M                           Newtonbrook , Willowdale   \n22         M2N                                   Willowdale South   \n23         M2P                                    York Mills West   \n24         M2R                                    Willowdale West   \n25         M3A                                          Parkwoods   \n26         M3B                                    Don Mills North   \n27         M3C                  Flemingdon Park , Don Mills South   \n28         M3H  Bathurst Manor , Downsview North , Wilson Heights   \n29         M3J                   Northwood Park , York University   \n..         ...                                                ...   \n73         M6C                                 Humewood-Cedarvale   \n74         M6E                                Caledonia-Fairbanks   \n75         M6G                                           Christie   \n76         M6H                      Dovercourt Village , Dufferin   \n77         M6J                          Little Portugal , Trinity   \n78         M6K     Brockton , Exhibition Place , Parkdale Village   \n79         M6L               Downsview , North Park , Upwood Park   \n80         M6M  Del Ray , Keelesdale , Mount Dennis , Silverthorn   \n81         M6N                     The Junction North , Runnymede   \n82         M6P                     High Park , The Junction South   \n83         M6R                            Parkdale , Roncesvalles   \n84         M6S                                Runnymede , Swansea   \n85         M7A                                       Queen's Park   \n86         M7R              Canada Post Gateway Processing Centre   \n87         M7Y  Business Reply Mail Processing Centre 969 Eastern   \n88         M8V     Humber Bay Shores , Mimico South , New Toronto   \n89         M8W                            Alderwood , Long Branch   \n90         M8X    The Kingsway , Montgomery Road , Old Mill North   \n91         M8Y  Humber Bay , King's Mill Park , Kingsway Park ...   \n92         M8Z  Kingsway Park South West , Mimico NW , The Que...   \n93         M9A                                   Islington Avenue   \n94         M9B  Cloverdale , Islington , Martin Grove , Prince...   \n95         M9C  Bloordale Gardens , Eringate , Markland Wood ,...   \n96         M9L                                      Humber Summit   \n97         M9M                                  Emery , Humberlea   \n98         M9N                                             Weston   \n99         M9P                                          Westmount   \n100        M9R  Kingsview Village , Martin Grove Gardens , Ric...   \n101        M9V  Albion Gardens , Beaumond Heights , Humbergate...   \n102        M9W                                          Northwest   \n\n              Borough   Latitude  Longitude  \n0         Scarborough  43.806686 -79.194353  \n1         Scarborough  43.784535 -79.160497  \n2         Scarborough  43.763573 -79.188711  \n3         Scarborough  43.770992 -79.216917  \n4         Scarborough  43.773136 -79.239476  \n5         Scarborough  43.744734 -79.239476  \n6         Scarborough  43.727929 -79.262029  \n7         Scarborough  43.711112 -79.284577  \n8         Scarborough  43.716316 -79.239476  \n9         Scarborough  43.692657 -79.264848  \n10        Scarborough  43.757410 -79.273304  \n11        Scarborough  43.750072 -79.295849  \n12        Scarborough  43.794200 -79.262029  \n13        Scarborough  43.781638 -79.304302  \n14        Scarborough  43.815252 -79.284577  \n15        Scarborough  43.799525 -79.318389  \n16        Scarborough  43.836125 -79.205636  \n17         North York  43.803762 -79.363452  \n18         North York  43.778517 -79.346556  \n19         North York  43.786947 -79.385975  \n20         North York  43.757490 -79.374714  \n21         North York  43.789053 -79.408493  \n22         North York  43.770120 -79.408493  \n23         North York  43.752758 -79.400049  \n24         North York  43.782736 -79.442259  \n25         North York  43.753259 -79.329656  \n26         North York  43.745906 -79.352188  \n27         North York  43.725900 -79.340923  \n28         North York  43.754328 -79.442259  \n29         North York  43.767980 -79.487262  \n..                ...        ...        ...  \n73               York  43.693781 -79.428191  \n74               York  43.689026 -79.453512  \n75   Downtown Toronto  43.669542 -79.422564  \n76       West Toronto  43.669005 -79.442259  \n77       West Toronto  43.647927 -79.419750  \n78       West Toronto  43.636847 -79.428191  \n79         North York  43.713756 -79.490074  \n80               York  43.691116 -79.476013  \n81               York  43.673185 -79.487262  \n82       West Toronto  43.661608 -79.464763  \n83       West Toronto  43.648960 -79.456325  \n84       West Toronto  43.651571 -79.484450  \n85       Queen's Park  43.662301 -79.389494  \n86        Mississauga  43.636966 -79.615819  \n87       East Toronto  43.662744 -79.321558  \n88          Etobicoke  43.605647 -79.501321  \n89          Etobicoke  43.602414 -79.543484  \n90          Etobicoke  43.653654 -79.506944  \n91          Etobicoke  43.636258 -79.498509  \n92          Etobicoke  43.628841 -79.520999  \n93          Etobicoke  43.667856 -79.532242  \n94          Etobicoke  43.650943 -79.554724  \n95          Etobicoke  43.643515 -79.577201  \n96         North York  43.756303 -79.565963  \n97         North York  43.724766 -79.532242  \n98               York  43.706876 -79.518188  \n99          Etobicoke  43.696319 -79.532242  \n100         Etobicoke  43.688905 -79.554724  \n101         Etobicoke  43.739416 -79.588437  \n102         Etobicoke  43.706748 -79.594054  \n\n[103 rows x 5 columns]", 
                        "text/html": "<div>\n<style scoped>\n    .dataframe tbody tr th:only-of-type {\n        vertical-align: middle;\n    }\n\n    .dataframe tbody tr th {\n        vertical-align: top;\n    }\n\n    .dataframe thead th {\n        text-align: right;\n    }\n</style>\n<table border=\"1\" class=\"dataframe\">\n  <thead>\n    <tr style=\"text-align: right;\">\n      <th></th>\n      <th>Postalcode</th>\n      <th>Neighborhood</th>\n      <th>Borough</th>\n      <th>Latitude</th>\n      <th>Longitude</th>\n    </tr>\n  </thead>\n  <tbody>\n    <tr>\n      <th>0</th>\n      <td>M1B</td>\n      <td>Rouge , Malvern</td>\n      <td>Scarborough</td>\n      <td>43.806686</td>\n      <td>-79.194353</td>\n    </tr>\n    <tr>\n      <th>1</th>\n      <td>M1C</td>\n      <td>Highland Creek , Rouge Hill , Port Union</td>\n      <td>Scarborough</td>\n      <td>43.784535</td>\n      <td>-79.160497</td>\n    </tr>\n    <tr>\n      <th>2</th>\n      <td>M1E</td>\n      <td>Guildwood , Morningside , West Hill</td>\n      <td>Scarborough</td>\n      <td>43.763573</td>\n      <td>-79.188711</td>\n    </tr>\n    <tr>\n      <th>3</th>\n      <td>M1G</td>\n      <td>Woburn</td>\n      <td>Scarborough</td>\n      <td>43.770992</td>\n      <td>-79.216917</td>\n    </tr>\n    <tr>\n      <th>4</th>\n      <td>M1H</td>\n      <td>Cedarbrae</td>\n      <td>Scarborough</td>\n      <td>43.773136</td>\n      <td>-79.239476</td>\n    </tr>\n    <tr>\n      <th>5</th>\n      <td>M1J</td>\n      <td>Scarborough Village</td>\n      <td>Scarborough</td>\n      <td>43.744734</td>\n      <td>-79.239476</td>\n    </tr>\n    <tr>\n      <th>6</th>\n      <td>M1K</td>\n      <td>East Birchmount Park , Ionview , Kennedy Park</td>\n      <td>Scarborough</td>\n      <td>43.727929</td>\n      <td>-79.262029</td>\n    </tr>\n    <tr>\n      <th>7</th>\n      <td>M1L</td>\n      <td>Clairlea , Golden Mile , Oakridge</td>\n      <td>Scarborough</td>\n      <td>43.711112</td>\n      <td>-79.284577</td>\n    </tr>\n    <tr>\n      <th>8</th>\n      <td>M1M</td>\n      <td>Cliffcrest , Cliffside , Scarborough Village West</td>\n      <td>Scarborough</td>\n      <td>43.716316</td>\n      <td>-79.239476</td>\n    </tr>\n    <tr>\n      <th>9</th>\n      <td>M1N</td>\n      <td>Birch Cliff , Cliffside West</td>\n      <td>Scarborough</td>\n      <td>43.692657</td>\n      <td>-79.264848</td>\n    </tr>\n    <tr>\n      <th>10</th>\n      <td>M1P</td>\n      <td>Dorset Park , Scarborough Town Centre , Wexfor...</td>\n      <td>Scarborough</td>\n      <td>43.757410</td>\n      <td>-79.273304</td>\n    </tr>\n    <tr>\n      <th>11</th>\n      <td>M1R</td>\n      <td>Maryvale , Wexford</td>\n      <td>Scarborough</td>\n      <td>43.750072</td>\n      <td>-79.295849</td>\n    </tr>\n    <tr>\n      <th>12</th>\n      <td>M1S</td>\n      <td>Agincourt</td>\n      <td>Scarborough</td>\n      <td>43.794200</td>\n      <td>-79.262029</td>\n    </tr>\n    <tr>\n      <th>13</th>\n      <td>M1T</td>\n      <td>Clarks Corners , Sullivan , Tam O'Shanter</td>\n      <td>Scarborough</td>\n      <td>43.781638</td>\n      <td>-79.304302</td>\n    </tr>\n    <tr>\n      <th>14</th>\n      <td>M1V</td>\n      <td>Agincourt North , L'Amoreaux East , Milliken ,...</td>\n      <td>Scarborough</td>\n      <td>43.815252</td>\n      <td>-79.284577</td>\n    </tr>\n    <tr>\n      <th>15</th>\n      <td>M1W</td>\n      <td>L'Amoreaux West</td>\n      <td>Scarborough</td>\n      <td>43.799525</td>\n      <td>-79.318389</td>\n    </tr>\n    <tr>\n      <th>16</th>\n      <td>M1X</td>\n      <td>Upper Rouge</td>\n      <td>Scarborough</td>\n      <td>43.836125</td>\n      <td>-79.205636</td>\n    </tr>\n    <tr>\n      <th>17</th>\n      <td>M2H</td>\n      <td>Hillcrest Village</td>\n      <td>North York</td>\n      <td>43.803762</td>\n      <td>-79.363452</td>\n    </tr>\n    <tr>\n      <th>18</th>\n      <td>M2J</td>\n      <td>Fairview , Henry Farm , Oriole</td>\n      <td>North York</td>\n      <td>43.778517</td>\n      <td>-79.346556</td>\n    </tr>\n    <tr>\n      <th>19</th>\n      <td>M2K</td>\n      <td>Bayview Village</td>\n      <td>North York</td>\n      <td>43.786947</td>\n      <td>-79.385975</td>\n    </tr>\n    <tr>\n      <th>20</th>\n      <td>M2L</td>\n      <td>Silver Hills , York Mills</td>\n      <td>North York</td>\n      <td>43.757490</td>\n      <td>-79.374714</td>\n    </tr>\n    <tr>\n      <th>21</th>\n      <td>M2M</td>\n      <td>Newtonbrook , Willowdale</td>\n      <td>North York</td>\n      <td>43.789053</td>\n      <td>-79.408493</td>\n    </tr>\n    <tr>\n      <th>22</th>\n      <td>M2N</td>\n      <td>Willowdale South</td>\n      <td>North York</td>\n      <td>43.770120</td>\n      <td>-79.408493</td>\n    </tr>\n    <tr>\n      <th>23</th>\n      <td>M2P</td>\n      <td>York Mills West</td>\n      <td>North York</td>\n      <td>43.752758</td>\n      <td>-79.400049</td>\n    </tr>\n    <tr>\n      <th>24</th>\n      <td>M2R</td>\n      <td>Willowdale West</td>\n      <td>North York</td>\n      <td>43.782736</td>\n      <td>-79.442259</td>\n    </tr>\n    <tr>\n      <th>25</th>\n      <td>M3A</td>\n      <td>Parkwoods</td>\n      <td>North York</td>\n      <td>43.753259</td>\n      <td>-79.329656</td>\n    </tr>\n    <tr>\n      <th>26</th>\n      <td>M3B</td>\n      <td>Don Mills North</td>\n      <td>North York</td>\n      <td>43.745906</td>\n      <td>-79.352188</td>\n    </tr>\n    <tr>\n      <th>27</th>\n      <td>M3C</td>\n      <td>Flemingdon Park , Don Mills South</td>\n      <td>North York</td>\n      <td>43.725900</td>\n      <td>-79.340923</td>\n    </tr>\n    <tr>\n      <th>28</th>\n      <td>M3H</td>\n      <td>Bathurst Manor , Downsview North , Wilson Heights</td>\n      <td>North York</td>\n      <td>43.754328</td>\n      <td>-79.442259</td>\n    </tr>\n    <tr>\n      <th>29</th>\n      <td>M3J</td>\n      <td>Northwood Park , York University</td>\n      <td>North York</td>\n      <td>43.767980</td>\n      <td>-79.487262</td>\n    </tr>\n    <tr>\n      <th>...</th>\n      <td>...</td>\n      <td>...</td>\n      <td>...</td>\n      <td>...</td>\n      <td>...</td>\n    </tr>\n    <tr>\n      <th>73</th>\n      <td>M6C</td>\n      <td>Humewood-Cedarvale</td>\n      <td>York</td>\n      <td>43.693781</td>\n      <td>-79.428191</td>\n    </tr>\n    <tr>\n      <th>74</th>\n      <td>M6E</td>\n      <td>Caledonia-Fairbanks</td>\n      <td>York</td>\n      <td>43.689026</td>\n      <td>-79.453512</td>\n    </tr>\n    <tr>\n      <th>75</th>\n      <td>M6G</td>\n      <td>Christie</td>\n      <td>Downtown Toronto</td>\n      <td>43.669542</td>\n      <td>-79.422564</td>\n    </tr>\n    <tr>\n      <th>76</th>\n      <td>M6H</td>\n      <td>Dovercourt Village , Dufferin</td>\n      <td>West Toronto</td>\n      <td>43.669005</td>\n      <td>-79.442259</td>\n    </tr>\n    <tr>\n      <th>77</th>\n      <td>M6J</td>\n      <td>Little Portugal , Trinity</td>\n      <td>West Toronto</td>\n      <td>43.647927</td>\n      <td>-79.419750</td>\n    </tr>\n    <tr>\n      <th>78</th>\n      <td>M6K</td>\n      <td>Brockton , Exhibition Place , Parkdale Village</td>\n      <td>West Toronto</td>\n      <td>43.636847</td>\n      <td>-79.428191</td>\n    </tr>\n    <tr>\n      <th>79</th>\n      <td>M6L</td>\n      <td>Downsview , North Park , Upwood Park</td>\n      <td>North York</td>\n      <td>43.713756</td>\n      <td>-79.490074</td>\n    </tr>\n    <tr>\n      <th>80</th>\n      <td>M6M</td>\n      <td>Del Ray , Keelesdale , Mount Dennis , Silverthorn</td>\n      <td>York</td>\n      <td>43.691116</td>\n      <td>-79.476013</td>\n    </tr>\n    <tr>\n      <th>81</th>\n      <td>M6N</td>\n      <td>The Junction North , Runnymede</td>\n      <td>York</td>\n      <td>43.673185</td>\n      <td>-79.487262</td>\n    </tr>\n    <tr>\n      <th>82</th>\n      <td>M6P</td>\n      <td>High Park , The Junction South</td>\n      <td>West Toronto</td>\n      <td>43.661608</td>\n      <td>-79.464763</td>\n    </tr>\n    <tr>\n      <th>83</th>\n      <td>M6R</td>\n      <td>Parkdale , Roncesvalles</td>\n      <td>West Toronto</td>\n      <td>43.648960</td>\n      <td>-79.456325</td>\n    </tr>\n    <tr>\n      <th>84</th>\n      <td>M6S</td>\n      <td>Runnymede , Swansea</td>\n      <td>West Toronto</td>\n      <td>43.651571</td>\n      <td>-79.484450</td>\n    </tr>\n    <tr>\n      <th>85</th>\n      <td>M7A</td>\n      <td>Queen's Park</td>\n      <td>Queen's Park</td>\n      <td>43.662301</td>\n      <td>-79.389494</td>\n    </tr>\n    <tr>\n      <th>86</th>\n      <td>M7R</td>\n      <td>Canada Post Gateway Processing Centre</td>\n      <td>Mississauga</td>\n      <td>43.636966</td>\n      <td>-79.615819</td>\n    </tr>\n    <tr>\n      <th>87</th>\n      <td>M7Y</td>\n      <td>Business Reply Mail Processing Centre 969 Eastern</td>\n      <td>East Toronto</td>\n      <td>43.662744</td>\n      <td>-79.321558</td>\n    </tr>\n    <tr>\n      <th>88</th>\n      <td>M8V</td>\n      <td>Humber Bay Shores , Mimico South , New Toronto</td>\n      <td>Etobicoke</td>\n      <td>43.605647</td>\n      <td>-79.501321</td>\n    </tr>\n    <tr>\n      <th>89</th>\n      <td>M8W</td>\n      <td>Alderwood , Long Branch</td>\n      <td>Etobicoke</td>\n      <td>43.602414</td>\n      <td>-79.543484</td>\n    </tr>\n    <tr>\n      <th>90</th>\n      <td>M8X</td>\n      <td>The Kingsway , Montgomery Road , Old Mill North</td>\n      <td>Etobicoke</td>\n      <td>43.653654</td>\n      <td>-79.506944</td>\n    </tr>\n    <tr>\n      <th>91</th>\n      <td>M8Y</td>\n      <td>Humber Bay , King's Mill Park , Kingsway Park ...</td>\n      <td>Etobicoke</td>\n      <td>43.636258</td>\n      <td>-79.498509</td>\n    </tr>\n    <tr>\n      <th>92</th>\n      <td>M8Z</td>\n      <td>Kingsway Park South West , Mimico NW , The Que...</td>\n      <td>Etobicoke</td>\n      <td>43.628841</td>\n      <td>-79.520999</td>\n    </tr>\n    <tr>\n      <th>93</th>\n      <td>M9A</td>\n      <td>Islington Avenue</td>\n      <td>Etobicoke</td>\n      <td>43.667856</td>\n      <td>-79.532242</td>\n    </tr>\n    <tr>\n      <th>94</th>\n      <td>M9B</td>\n      <td>Cloverdale , Islington , Martin Grove , Prince...</td>\n      <td>Etobicoke</td>\n      <td>43.650943</td>\n      <td>-79.554724</td>\n    </tr>\n    <tr>\n      <th>95</th>\n      <td>M9C</td>\n      <td>Bloordale Gardens , Eringate , Markland Wood ,...</td>\n      <td>Etobicoke</td>\n      <td>43.643515</td>\n      <td>-79.577201</td>\n    </tr>\n    <tr>\n      <th>96</th>\n      <td>M9L</td>\n      <td>Humber Summit</td>\n      <td>North York</td>\n      <td>43.756303</td>\n      <td>-79.565963</td>\n    </tr>\n    <tr>\n      <th>97</th>\n      <td>M9M</td>\n      <td>Emery , Humberlea</td>\n      <td>North York</td>\n      <td>43.724766</td>\n      <td>-79.532242</td>\n    </tr>\n    <tr>\n      <th>98</th>\n      <td>M9N</td>\n      <td>Weston</td>\n      <td>York</td>\n      <td>43.706876</td>\n      <td>-79.518188</td>\n    </tr>\n    <tr>\n      <th>99</th>\n      <td>M9P</td>\n      <td>Westmount</td>\n      <td>Etobicoke</td>\n      <td>43.696319</td>\n      <td>-79.532242</td>\n    </tr>\n    <tr>\n      <th>100</th>\n      <td>M9R</td>\n      <td>Kingsview Village , Martin Grove Gardens , Ric...</td>\n      <td>Etobicoke</td>\n      <td>43.688905</td>\n      <td>-79.554724</td>\n    </tr>\n    <tr>\n      <th>101</th>\n      <td>M9V</td>\n      <td>Albion Gardens , Beaumond Heights , Humbergate...</td>\n      <td>Etobicoke</td>\n      <td>43.739416</td>\n      <td>-79.588437</td>\n    </tr>\n    <tr>\n      <th>102</th>\n      <td>M9W</td>\n      <td>Northwest</td>\n      <td>Etobicoke</td>\n      <td>43.706748</td>\n      <td>-79.594054</td>\n    </tr>\n  </tbody>\n</table>\n<p>103 rows \u00d7 5 columns</p>\n</div>"
                    }, 
                    "execution_count": 5, 
                    "metadata": {}
                }
            ], 
            "execution_count": 5
        }, 
        {
            "source": "#### Obtain the shape of the Dataframe", 
            "cell_type": "markdown", 
            "metadata": {}
        }, 
        {
            "source": "print('The shape of the final Dataframe ', df_merge.shape)", 
            "cell_type": "code", 
            "metadata": {}, 
            "outputs": [
                {
                    "output_type": "stream", 
                    "name": "stdout", 
                    "text": "The shape of the final Dataframe  (103, 5)\n"
                }
            ], 
            "execution_count": 6
        }, 
        {
            "source": "#### Display number of Neighborhoods by Borough", 
            "cell_type": "markdown", 
            "metadata": {}
        }, 
        {
            "source": "df_merge.groupby('Borough').count()", 
            "cell_type": "code", 
            "metadata": {}, 
            "outputs": [
                {
                    "output_type": "execute_result", 
                    "data": {
                        "text/plain": "                  Postalcode  Neighborhood  Latitude  Longitude\nBorough                                                        \nCentral Toronto            9             9         9          9\nDowntown Toronto          18            18        18         18\nEast Toronto               5             5         5          5\nEast York                  5             5         5          5\nEtobicoke                 12            12        12         12\nMississauga                1             1         1          1\nNorth York                24            24        24         24\nQueen's Park               1             1         1          1\nScarborough               17            17        17         17\nWest Toronto               6             6         6          6\nYork                       5             5         5          5", 
                        "text/html": "<div>\n<style scoped>\n    .dataframe tbody tr th:only-of-type {\n        vertical-align: middle;\n    }\n\n    .dataframe tbody tr th {\n        vertical-align: top;\n    }\n\n    .dataframe thead th {\n        text-align: right;\n    }\n</style>\n<table border=\"1\" class=\"dataframe\">\n  <thead>\n    <tr style=\"text-align: right;\">\n      <th></th>\n      <th>Postalcode</th>\n      <th>Neighborhood</th>\n      <th>Latitude</th>\n      <th>Longitude</th>\n    </tr>\n    <tr>\n      <th>Borough</th>\n      <th></th>\n      <th></th>\n      <th></th>\n      <th></th>\n    </tr>\n  </thead>\n  <tbody>\n    <tr>\n      <th>Central Toronto</th>\n      <td>9</td>\n      <td>9</td>\n      <td>9</td>\n      <td>9</td>\n    </tr>\n    <tr>\n      <th>Downtown Toronto</th>\n      <td>18</td>\n      <td>18</td>\n      <td>18</td>\n      <td>18</td>\n    </tr>\n    <tr>\n      <th>East Toronto</th>\n      <td>5</td>\n      <td>5</td>\n      <td>5</td>\n      <td>5</td>\n    </tr>\n    <tr>\n      <th>East York</th>\n      <td>5</td>\n      <td>5</td>\n      <td>5</td>\n      <td>5</td>\n    </tr>\n    <tr>\n      <th>Etobicoke</th>\n      <td>12</td>\n      <td>12</td>\n      <td>12</td>\n      <td>12</td>\n    </tr>\n    <tr>\n      <th>Mississauga</th>\n      <td>1</td>\n      <td>1</td>\n      <td>1</td>\n      <td>1</td>\n    </tr>\n    <tr>\n      <th>North York</th>\n      <td>24</td>\n      <td>24</td>\n      <td>24</td>\n      <td>24</td>\n    </tr>\n    <tr>\n      <th>Queen's Park</th>\n      <td>1</td>\n      <td>1</td>\n      <td>1</td>\n      <td>1</td>\n    </tr>\n    <tr>\n      <th>Scarborough</th>\n      <td>17</td>\n      <td>17</td>\n      <td>17</td>\n      <td>17</td>\n    </tr>\n    <tr>\n      <th>West Toronto</th>\n      <td>6</td>\n      <td>6</td>\n      <td>6</td>\n      <td>6</td>\n    </tr>\n    <tr>\n      <th>York</th>\n      <td>5</td>\n      <td>5</td>\n      <td>5</td>\n      <td>5</td>\n    </tr>\n  </tbody>\n</table>\n</div>"
                    }, 
                    "execution_count": 7, 
                    "metadata": {}
                }
            ], 
            "execution_count": 7
        }
    ], 
    "metadata": {
        "kernelspec": {
            "display_name": "Python 3.5", 
            "name": "python3", 
            "language": "python"
        }, 
        "language_info": {
            "mimetype": "text/x-python", 
            "nbconvert_exporter": "python", 
            "version": "3.5.5", 
            "name": "python", 
            "pygments_lexer": "ipython3", 
            "file_extension": ".py", 
            "codemirror_mode": {
                "version": 3, 
                "name": "ipython"
            }
        }
    }, 
    "nbformat": 4
}