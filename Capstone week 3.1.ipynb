{
    "nbformat_minor": 1, 
    "cells": [
        {
            "source": "#### Import required Libraries", 
            "cell_type": "markdown", 
            "metadata": {
                "collapsed": true
            }
        }, 
        {
            "source": "import pandas as pd\nimport os\nos.system('pip install wikipedia')\nos.system('pip install geocoder')\nos.system('pip install geopy')\nos.system('pip install folium')\nimport wikipedia as wp\nfrom geopy.geocoders import Nominatim\nimport folium", 
            "cell_type": "code", 
            "metadata": {}, 
            "outputs": [], 
            "execution_count": 1
        }, 
        {
            "source": "#### Call the wikipedia page function and pass the \"list of postal codes of Canada\" page, read the html and create the df", 
            "cell_type": "markdown", 
            "metadata": {}
        }, 
        {
            "source": "html = wp.page(\"List of postal codes of Canada: M\").html().encode(\"UTF-8\")\ndf = pd.read_html(html)[0]\ndf.columns = ['Postalcode', 'Borough', 'Neighborhood']\ndf = df.iloc[1:]\n#df.to_csv('C:\\\\Users\\RAGHUGOPALKRISHNAN\\\\Desktop\\\\Course9.csv')\n#print(df)", 
            "cell_type": "code", 
            "metadata": {}, 
            "outputs": [], 
            "execution_count": 2
        }, 
        {
            "source": "#### Use groupby to group on the Postalcode column and aggregate on the Neighborhood column. Drop rows which have 'not assigned' in the Borough column and assign Borough value if the Neighborhood has value as 'Not assigned'\n", 
            "cell_type": "markdown", 
            "metadata": {}
        }, 
        {
            "source": "foo = lambda a: \" , \".join(a) \ndf = df.groupby('Postalcode').agg({'Borough': 'first', 'Neighborhood': foo}).reset_index()\n   \n    \ndf = df.drop(df[(df.Borough == 'Not assigned')].index)\nfor index, row in df.iterrows():\n    if row['Neighborhood'] == 'Not assigned':\n        #print(row['Borough'])\n        row['Neighborhood'] = row['Borough']", 
            "cell_type": "code", 
            "metadata": {}, 
            "outputs": [], 
            "execution_count": 3
        }, 
        {
            "source": "#### Let's look at the shape of the Dataframe", 
            "cell_type": "markdown", 
            "metadata": {}
        }, 
        {
            "source": "print('The shape of the Dataframe ', df.shape)", 
            "cell_type": "code", 
            "metadata": {}, 
            "outputs": [
                {
                    "output_type": "stream", 
                    "name": "stdout", 
                    "text": "The shape of the final Dataframe  (103, 3)\n"
                }
            ], 
            "execution_count": 5
        }
    ], 
    "metadata": {
        "kernelspec": {
            "display_name": "Python 3.5", 
            "name": "python3", 
            "language": "python"
        }, 
        "language_info": {
            "mimetype": "text/x-python", 
            "nbconvert_exporter": "python", 
            "version": "3.5.5", 
            "name": "python", 
            "file_extension": ".py", 
            "pygments_lexer": "ipython3", 
            "codemirror_mode": {
                "version": 3, 
                "name": "ipython"
            }
        }
    }, 
    "nbformat": 4
}